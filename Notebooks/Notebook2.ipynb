{
  "nbformat": 4,
  "nbformat_minor": 0,
  "metadata": {
    "colab": {
      "name": "Untitled0.ipynb",
      "provenance": []
    },
    "kernelspec": {
      "name": "python3",
      "display_name": "Python 3"
    },
    "accelerator": "GPU"
  },
  "cells": [
    {
      "cell_type": "code",
      "metadata": {
        "id": "PpWvMIUCWbRC",
        "colab_type": "code",
        "colab": {
          "base_uri": "https://localhost:8080/",
          "height": 1000
        },
        "outputId": "98279677-839d-4d69-904d-a5ac0c4d7b49"
      },
      "source": [
        "!pip install optuna"
      ],
      "execution_count": null,
      "outputs": [
        {
          "output_type": "stream",
          "text": [
            "Collecting optuna\n",
            "\u001b[?25l  Downloading https://files.pythonhosted.org/packages/33/32/266d4afd269e3ecd7fcc595937c1733f65eae6c09c3caea74c0de0b88d78/optuna-1.5.0.tar.gz (200kB)\n",
            "\u001b[K     |████████████████████████████████| 204kB 6.3MB/s \n",
            "\u001b[?25hCollecting alembic\n",
            "\u001b[?25l  Downloading https://files.pythonhosted.org/packages/60/1e/cabc75a189de0fbb2841d0975243e59bde8b7822bacbb95008ac6fe9ad47/alembic-1.4.2.tar.gz (1.1MB)\n",
            "\u001b[K     |████████████████████████████████| 1.1MB 19.4MB/s \n",
            "\u001b[?25h  Installing build dependencies ... \u001b[?25l\u001b[?25hdone\n",
            "  Getting requirements to build wheel ... \u001b[?25l\u001b[?25hdone\n",
            "    Preparing wheel metadata ... \u001b[?25l\u001b[?25hdone\n",
            "Collecting cliff\n",
            "\u001b[?25l  Downloading https://files.pythonhosted.org/packages/4e/74/ce0a37365dd79563d8b00d6e22ac664e4121aee07433c5c4a25eac84d858/cliff-3.2.0-py3-none-any.whl (80kB)\n",
            "\u001b[K     |████████████████████████████████| 81kB 9.3MB/s \n",
            "\u001b[?25hCollecting cmaes>=0.5.0\n",
            "  Downloading https://files.pythonhosted.org/packages/03/de/6ed34ebc0e5c34ed371d898540bca36edb4afe5bb2ca382483054e573c75/cmaes-0.5.0-py3-none-any.whl\n",
            "Collecting colorlog\n",
            "  Downloading https://files.pythonhosted.org/packages/00/0d/22c73c2eccb21dd3498df7d22c0b1d4a30f5a5fb3feb64e1ce06bc247747/colorlog-4.1.0-py2.py3-none-any.whl\n",
            "Requirement already satisfied: joblib in /usr/local/lib/python3.6/dist-packages (from optuna) (0.15.1)\n",
            "Requirement already satisfied: numpy in /usr/local/lib/python3.6/dist-packages (from optuna) (1.18.5)\n",
            "Requirement already satisfied: scipy!=1.4.0 in /usr/local/lib/python3.6/dist-packages (from optuna) (1.4.1)\n",
            "Requirement already satisfied: sqlalchemy>=1.1.0 in /usr/local/lib/python3.6/dist-packages (from optuna) (1.3.17)\n",
            "Requirement already satisfied: tqdm in /usr/local/lib/python3.6/dist-packages (from optuna) (4.41.1)\n",
            "Requirement already satisfied: python-dateutil in /usr/local/lib/python3.6/dist-packages (from alembic->optuna) (2.8.1)\n",
            "Collecting python-editor>=0.3\n",
            "  Downloading https://files.pythonhosted.org/packages/c6/d3/201fc3abe391bbae6606e6f1d598c15d367033332bd54352b12f35513717/python_editor-1.0.4-py3-none-any.whl\n",
            "Collecting Mako\n",
            "\u001b[?25l  Downloading https://files.pythonhosted.org/packages/a6/37/0e706200d22172eb8fa17d68a7ae22dec7631a0a92266634fb518a88a5b2/Mako-1.1.3-py2.py3-none-any.whl (75kB)\n",
            "\u001b[K     |████████████████████████████████| 81kB 9.5MB/s \n",
            "\u001b[?25hRequirement already satisfied: six>=1.10.0 in /usr/local/lib/python3.6/dist-packages (from cliff->optuna) (1.12.0)\n",
            "Requirement already satisfied: PrettyTable<0.8,>=0.7.2 in /usr/local/lib/python3.6/dist-packages (from cliff->optuna) (0.7.2)\n",
            "Collecting cmd2!=0.8.3,<0.9.0,>=0.8.0\n",
            "\u001b[?25l  Downloading https://files.pythonhosted.org/packages/e9/40/a71caa2aaff10c73612a7106e2d35f693e85b8cf6e37ab0774274bca3cf9/cmd2-0.8.9-py2.py3-none-any.whl (53kB)\n",
            "\u001b[K     |████████████████████████████████| 61kB 7.5MB/s \n",
            "\u001b[?25hCollecting stevedore>=1.20.0\n",
            "\u001b[?25l  Downloading https://files.pythonhosted.org/packages/11/75/154f7b0bc00a580db2ccac141400dc601f7f2a1bf45bd56515edbda34850/stevedore-2.0.0-py3-none-any.whl (42kB)\n",
            "\u001b[K     |████████████████████████████████| 51kB 6.9MB/s \n",
            "\u001b[?25hRequirement already satisfied: PyYAML>=3.12 in /usr/local/lib/python3.6/dist-packages (from cliff->optuna) (3.13)\n",
            "Collecting pbr!=2.1.0,>=2.0.0\n",
            "\u001b[?25l  Downloading https://files.pythonhosted.org/packages/96/ba/aa953a11ec014b23df057ecdbc922fdb40ca8463466b1193f3367d2711a6/pbr-5.4.5-py2.py3-none-any.whl (110kB)\n",
            "\u001b[K     |████████████████████████████████| 112kB 31.7MB/s \n",
            "\u001b[?25hRequirement already satisfied: pyparsing>=2.1.0 in /usr/local/lib/python3.6/dist-packages (from cliff->optuna) (2.4.7)\n",
            "Requirement already satisfied: MarkupSafe>=0.9.2 in /usr/local/lib/python3.6/dist-packages (from Mako->alembic->optuna) (1.1.1)\n",
            "Requirement already satisfied: wcwidth; sys_platform != \"win32\" in /usr/local/lib/python3.6/dist-packages (from cmd2!=0.8.3,<0.9.0,>=0.8.0->cliff->optuna) (0.2.3)\n",
            "Collecting pyperclip\n",
            "  Downloading https://files.pythonhosted.org/packages/f6/5b/55866e1cde0f86f5eec59dab5de8a66628cb0d53da74b8dbc15ad8dabda3/pyperclip-1.8.0.tar.gz\n",
            "Building wheels for collected packages: alembic\n",
            "  Building wheel for alembic (PEP 517) ... \u001b[?25l\u001b[?25hdone\n",
            "  Created wheel for alembic: filename=alembic-1.4.2-cp36-none-any.whl size=159543 sha256=76403438a02b435ba9389f3ad2f27fce4f476346eaa37cd1b59e4872e2be9393\n",
            "  Stored in directory: /root/.cache/pip/wheels/1f/04/83/76023f7a4c14688c0b5c2682a96392cfdd3ee4449eaaa287ef\n",
            "Successfully built alembic\n",
            "Building wheels for collected packages: optuna, pyperclip\n",
            "  Building wheel for optuna (setup.py) ... \u001b[?25l\u001b[?25hdone\n",
            "  Created wheel for optuna: filename=optuna-1.5.0-cp36-none-any.whl size=276145 sha256=1fd581ccd328903535531649e2cc9828ffa9718f3c19ec1e27cd4d307142d47f\n",
            "  Stored in directory: /root/.cache/pip/wheels/38/21/78/4f5529e0c757ababc4217eb9adf1886d21eb22bb1ab98c33c5\n",
            "  Building wheel for pyperclip (setup.py) ... \u001b[?25l\u001b[?25hdone\n",
            "  Created wheel for pyperclip: filename=pyperclip-1.8.0-cp36-none-any.whl size=8693 sha256=042529590ca69e2792a0caab2f146e14eced45cab2c93680abd236c067f2934d\n",
            "  Stored in directory: /root/.cache/pip/wheels/b2/ac/0a/b784f0afe26eaf52e88a7e15c7369090deea0354fa1c6fc689\n",
            "Successfully built optuna pyperclip\n",
            "Installing collected packages: python-editor, Mako, alembic, pyperclip, cmd2, pbr, stevedore, cliff, cmaes, colorlog, optuna\n",
            "Successfully installed Mako-1.1.3 alembic-1.4.2 cliff-3.2.0 cmaes-0.5.0 cmd2-0.8.9 colorlog-4.1.0 optuna-1.5.0 pbr-5.4.5 pyperclip-1.8.0 python-editor-1.0.4 stevedore-2.0.0\n"
          ],
          "name": "stdout"
        }
      ]
    },
    {
      "cell_type": "code",
      "metadata": {
        "id": "f0hzDER2Cjhp",
        "colab_type": "code",
        "colab": {}
      },
      "source": [
        "import pandas as pd\n",
        "\n",
        "import numpy as np\n",
        "\n",
        "from sklearn.preprocessing import LabelEncoder\n",
        "from sklearn.metrics import mean_squared_error\n",
        "from sklearn.model_selection import KFold\n",
        "from sklearn.model_selection import train_test_split\n",
        "from sklearn.linear_model import BayesianRidge, LinearRegression, Ridge\n",
        "\n",
        "from lightgbm import LGBMRegressor\n",
        "\n",
        "from xgboost import XGBClassifier\n",
        "\n",
        "# from autofeat import AutoFeatRegressor\n",
        "\n",
        "import optuna"
      ],
      "execution_count": null,
      "outputs": []
    },
    {
      "cell_type": "code",
      "metadata": {
        "id": "2wBj5MW9OeIn",
        "colab_type": "code",
        "colab": {}
      },
      "source": [
        "def accuracy(y_true,y_pred):\n",
        "  return 100 * max(0,1-np.sqrt(mean_squared_error(y_true,y_pred)))"
      ],
      "execution_count": null,
      "outputs": []
    },
    {
      "cell_type": "code",
      "metadata": {
        "id": "BgAEKW_PCC0q",
        "colab_type": "code",
        "colab": {}
      },
      "source": [
        "path = 'drive/My Drive/Hackerearth/ML1/Dataset/'"
      ],
      "execution_count": null,
      "outputs": []
    },
    {
      "cell_type": "code",
      "metadata": {
        "id": "j67NRO6vChHi",
        "colab_type": "code",
        "colab": {}
      },
      "source": [
        "train = pd.read_csv(path+'Train.csv')\n",
        "test = pd.read_csv(path+'Test.csv')"
      ],
      "execution_count": null,
      "outputs": []
    },
    {
      "cell_type": "code",
      "metadata": {
        "id": "4NF3kXcKEYfV",
        "colab_type": "code",
        "colab": {}
      },
      "source": [
        "test_eid = test['Employee_ID'].copy()"
      ],
      "execution_count": null,
      "outputs": []
    },
    {
      "cell_type": "code",
      "metadata": {
        "id": "S3RhRfIUEWUg",
        "colab_type": "code",
        "colab": {}
      },
      "source": [
        "train['Employee_ID'] = train['Employee_ID'].apply(lambda x: int(x.split('_')[1]))\n",
        "test['Employee_ID'] = test['Employee_ID'].apply(lambda x: int(x.split('_')[1]))"
      ],
      "execution_count": null,
      "outputs": []
    },
    {
      "cell_type": "code",
      "metadata": {
        "id": "xg0aqVXHDKH-",
        "colab_type": "code",
        "colab": {}
      },
      "source": [
        "cols = train.columns[train.dtypes == 'object']\n",
        "\n",
        "for col in cols:\n",
        "  dummies = pd.get_dummies(train[col])\n",
        "  train.drop([col],axis=1,inplace=True)\n",
        "  train = pd.concat([train,dummies],axis=1)\n",
        "  dummies = pd.get_dummies(test[col])\n",
        "  test.drop([col],axis=1,inplace=True)\n",
        "  test = pd.concat([test,dummies],axis=1)"
      ],
      "execution_count": null,
      "outputs": []
    },
    {
      "cell_type": "code",
      "metadata": {
        "id": "q72zbBU0E-9_",
        "colab_type": "code",
        "colab": {}
      },
      "source": [
        "for col in train.columns:\n",
        "  train[col].fillna(train[col].median(),inplace=True)"
      ],
      "execution_count": null,
      "outputs": []
    },
    {
      "cell_type": "code",
      "metadata": {
        "id": "8bsh0WNaNoMr",
        "colab_type": "code",
        "colab": {}
      },
      "source": [
        "funcs = [np.add, np.subtract, np.multiply, np.divide]\n",
        "\n",
        "for i, func in enumerate(funcs):\n",
        "    train['Age_TOS'+str(i+1)] = func(train['Age'],train['Time_of_service'])\n",
        "    test['Age_TOS'+str(i+1)] = func(test['Age'],test['Time_of_service'])\n",
        "\n",
        "    train['AT_GR'+str(i+1)] = func(train['Age_TOS'+str(i+1)], train['growth_rate'])\n",
        "    test['AT_GR'+str(i+1)] = func(test['Age_TOS'+str(i+1)], test['growth_rate'])\n",
        "\n",
        "    train['TS_GR'+str(i+1)] = func(train['Time_of_service'], train['growth_rate'])\n",
        "    test['TS_GR'+str(i+1)] = func(test['Time_of_service'], test['growth_rate'])\n",
        "\n",
        "    train['PS_WLB'+str(i+1)] = func(train['Pay_Scale'], train['Work_Life_balance'])\n",
        "    test['PS_WLB'+str(i+1)] = func(test['Pay_Scale'], test['Work_Life_balance'])\n",
        "\n",
        "    train['Age_TSP'+str(i+1)] = func(train['Age'], train['Time_since_promotion'])\n",
        "    test['Age_TSP'+str(i+1)] = func(test['Age'],test['Time_since_promotion'])\n",
        "\n",
        "    train['Age_EMP'+str(i+1)] = func(train['Age'], train['Employee_ID'])\n",
        "    test['Age_EMP'+str(i+1)] = func(test['Age'], test['Employee_ID'])\n",
        "\n",
        "    train['TOS_EMP'+str(i+1)] = func(train['Time_of_service'],train['Employee_ID'])\n",
        "    test['TOS_EMP'+str(i+1)] = func(test['Time_of_service'],test['Employee_ID'])\n",
        "\n",
        "    train['ATOS_EMP'+str(i+1)] = func(train['Age_TOS'+str(i+1)], train['Employee_ID'])\n",
        "    test['ATOS_EMP'+str(i+1)] = func(test['Age_TOS'+str(i+1)], test['Employee_ID'])\n",
        "    \n",
        "for i,col in enumerate(test.columns):\n",
        "    test[col+str(i+1)] = test[col]**2\n",
        "    test[col+str(i+10)] = test[col]**3\n",
        "    train[col+str(i+1)] = train[col]**2\n",
        "    train[col+str(i+10)] = train[col]**3\n",
        "\n",
        "\n",
        "var_names = ['VAR'+str(i) for i in range(1,8)]\n",
        "sums_tr = []\n",
        "sums_ts = []\n",
        "for row in train[var_names].itertuples():\n",
        "    sums_tr.append(row[1]+row[2]+row[3]+row[4]+row[5]+row[6]+row[7])\n",
        "    \n",
        "for row2 in test[var_names].itertuples():\n",
        "    sums_ts.append(row2[1]+row2[2]+row2[3]+row2[4]+row2[5]+row2[6]+row2[7])\n",
        "    \n",
        "train['sum_VARS'] = sums_tr\n",
        "test['sum_VARS'] = sums_ts"
      ],
      "execution_count": null,
      "outputs": []
    },
    {
      "cell_type": "code",
      "metadata": {
        "id": "Zy79rFM4DLSA",
        "colab_type": "code",
        "colab": {}
      },
      "source": [
        "X = train.drop(['Attrition_rate'],axis=1)\n",
        "y = train['Attrition_rate'].copy().values"
      ],
      "execution_count": null,
      "outputs": []
    },
    {
      "cell_type": "code",
      "metadata": {
        "id": "NOW4Ngi5oxD9",
        "colab_type": "code",
        "colab": {}
      },
      "source": [
        "X = X.replace([np.inf, -np.inf], np.nan)\n",
        "test = test.replace([np.inf, -np.inf], np.nan)\n",
        "for cols in X.columns:\n",
        "  X[cols].fillna(X[cols].mean(),inplace=True)\n",
        "  test[cols].fillna(X[cols].mean(),inplace=True)"
      ],
      "execution_count": null,
      "outputs": []
    },
    {
      "cell_type": "code",
      "metadata": {
        "id": "WAgJCZaQERWq",
        "colab_type": "code",
        "colab": {
          "base_uri": "https://localhost:8080/",
          "height": 172
        },
        "outputId": "d4c36b4e-40fd-4e7e-83bb-44e917b4b642"
      },
      "source": [
        "af = AutoFeatRegressor(feateng_steps = 2 , verbose=True)"
      ],
      "execution_count": null,
      "outputs": [
        {
          "output_type": "error",
          "ename": "NameError",
          "evalue": "ignored",
          "traceback": [
            "\u001b[0;31m---------------------------------------------------------------------------\u001b[0m",
            "\u001b[0;31mNameError\u001b[0m                                 Traceback (most recent call last)",
            "\u001b[0;32m<ipython-input-14-676d290378e9>\u001b[0m in \u001b[0;36m<module>\u001b[0;34m()\u001b[0m\n\u001b[0;32m----> 1\u001b[0;31m \u001b[0maf\u001b[0m \u001b[0;34m=\u001b[0m \u001b[0mAutoFeatRegressor\u001b[0m\u001b[0;34m(\u001b[0m\u001b[0mfeateng_steps\u001b[0m \u001b[0;34m=\u001b[0m \u001b[0;36m2\u001b[0m \u001b[0;34m,\u001b[0m \u001b[0mverbose\u001b[0m\u001b[0;34m=\u001b[0m\u001b[0;32mTrue\u001b[0m\u001b[0;34m)\u001b[0m\u001b[0;34m\u001b[0m\u001b[0;34m\u001b[0m\u001b[0m\n\u001b[0m",
            "\u001b[0;31mNameError\u001b[0m: name 'AutoFeatRegressor' is not defined"
          ]
        }
      ]
    },
    {
      "cell_type": "code",
      "metadata": {
        "id": "QT3h2ym_E3V0",
        "colab_type": "code",
        "colab": {
          "base_uri": "https://localhost:8080/",
          "height": 421
        },
        "outputId": "6698ccae-3435-4354-b752-13859e1b90b3"
      },
      "source": [
        "X_ = af.fit_transform(X, y)"
      ],
      "execution_count": null,
      "outputs": [
        {
          "output_type": "stream",
          "text": [
            "[AutoFeat] The 2 step feature engineering process could generate up to 52003 features.\n",
            "[AutoFeat] With 7000 data points this new feature matrix would use about 1.46 gb of space.\n",
            "[feateng] Step 1: transformation of original features\n",
            "[feateng] Generated 84 transformed features from 46 original features - done.\n",
            "[feateng] Step 2: first combination of features\n",
            "[feateng] Generated 8235 feature combinations from 8385 original feature tuples - done.\n",
            "[feateng] Generated altogether 8415 new features in 2 steps\n",
            "[feateng] Removing correlated features, as well as additions at the highest level\n",
            "[feateng] Generated a total of 6565 additional features\n",
            "[featsel] Scaling data...done.\n",
            "[featsel] Feature selection run 1/5\n",
            "[featsel] Feature selection run 2/5\n",
            "[featsel] Feature selection run 3/5\n",
            "[featsel] Feature selection run 4/5\n",
            "[featsel] Feature selection run 5/5\n",
            "[featsel] 0 features after noise filtering\n",
            "[featsel] WARNING: Not a single good features was found...\n",
            "[AutoFeat] Final dataframe with 46 feature columns (0 new).\n",
            "[AutoFeat] Training final regression model.\n",
            "[AutoFeat] Trained model: largest coefficients:\n",
            "0.18937612857142858\n",
            "[AutoFeat] Final score: 0.0000\n"
          ],
          "name": "stdout"
        }
      ]
    },
    {
      "cell_type": "code",
      "metadata": {
        "id": "C7U8eygi3WDk",
        "colab_type": "code",
        "colab": {}
      },
      "source": [
        "for idd in test['Employee_ID']:\n",
        "  if not train[train['Employee_ID']==idd].empty:\n",
        "    print('here')"
      ],
      "execution_count": null,
      "outputs": []
    },
    {
      "cell_type": "code",
      "metadata": {
        "id": "QdEZ_EJJQN5R",
        "colab_type": "code",
        "colab": {
          "base_uri": "https://localhost:8080/",
          "height": 172
        },
        "outputId": "6a5abead-a54d-40f4-bf53-790b04a09d1f"
      },
      "source": [
        "test_ = af.transform(test.values)"
      ],
      "execution_count": null,
      "outputs": [
        {
          "output_type": "error",
          "ename": "NameError",
          "evalue": "ignored",
          "traceback": [
            "\u001b[0;31m---------------------------------------------------------------------------\u001b[0m",
            "\u001b[0;31mNameError\u001b[0m                                 Traceback (most recent call last)",
            "\u001b[0;32m<ipython-input-13-facb7b421f46>\u001b[0m in \u001b[0;36m<module>\u001b[0;34m()\u001b[0m\n\u001b[0;32m----> 1\u001b[0;31m \u001b[0mtest_\u001b[0m \u001b[0;34m=\u001b[0m \u001b[0maf\u001b[0m\u001b[0;34m.\u001b[0m\u001b[0mtransform\u001b[0m\u001b[0;34m(\u001b[0m\u001b[0mtest\u001b[0m\u001b[0;34m.\u001b[0m\u001b[0mvalues\u001b[0m\u001b[0;34m)\u001b[0m\u001b[0;34m\u001b[0m\u001b[0;34m\u001b[0m\u001b[0m\n\u001b[0m",
            "\u001b[0;31mNameError\u001b[0m: name 'af' is not defined"
          ]
        }
      ]
    },
    {
      "cell_type": "code",
      "metadata": {
        "id": "9ePJ4AKslKZS",
        "colab_type": "code",
        "colab": {}
      },
      "source": [
        "path = 'drive/My Drive/Hackerearth/ML1/'\n",
        "X = pd.read_csv(path+'X_modified.csv')\n",
        "test = pd.read_csv(path+'test_modified.csv')"
      ],
      "execution_count": null,
      "outputs": []
    },
    {
      "cell_type": "code",
      "metadata": {
        "id": "GQm_whxM5hsw",
        "colab_type": "code",
        "colab": {}
      },
      "source": [
        "grid_lgbm = {\n",
        "    'max_depth':16,\n",
        "    'learning_rate':0.002,\n",
        "    'n_estimators':1704,\n",
        "    'min_child_weight':17,\n",
        "    'eta':0.364\n",
        "}\n",
        "grid_bayesian = {\n",
        "    'n_iter':10000,\n",
        "    'tol':6.42e-06,\n",
        "    'alpha_1':0.0001,\n",
        "    'alpha_2':6.58e-05,\n",
        "    'lambda_1':0.999,\n",
        "    'lambda_2':2.24e-05,\n",
        "    'compute_score':True,\n",
        "    'fit_intercept':True,\n",
        "    'normalize':False\n",
        "}\n",
        "grid_ridge = {\n",
        "    'max_iter':90000,\n",
        "    'alpha': 0.23143352151759083, \n",
        "    'fit_intercept': True, \n",
        "    'normalize': False, \n",
        "    'tol': 0.0005243805101392493, \n",
        "    'solver': 'saga'\n",
        "}"
      ],
      "execution_count": null,
      "outputs": []
    },
    {
      "cell_type": "code",
      "metadata": {
        "id": "yupQ_FZzvm6h",
        "colab_type": "code",
        "colab": {}
      },
      "source": [
        "from tensorflow.keras.models import Sequential\n",
        "from tensorflow.keras.layers import Dense, Dropout\n",
        "from tensorflow.keras.optimizers import Adam\n",
        "from tensorflow.keras.losses import mean_squared_error"
      ],
      "execution_count": null,
      "outputs": []
    },
    {
      "cell_type": "code",
      "metadata": {
        "id": "971iRhLOWmuQ",
        "colab_type": "code",
        "colab": {}
      },
      "source": [
        "def perc_Tunning(trial):\n",
        "  p1 = trial.suggest_loguniform('p1',0.1,0.9)\n",
        "  p2 = trial.suggest_loguniform('p2',0.1,0.9)\n",
        "  p3 = trial.suggest_loguniform('p3',0.1,0.9)\n",
        "\n",
        "  scores = []\n",
        "  for tr_in, val_in in KFold().split(X, y):\n",
        "    BR = BayesianRidge(**grid_bayesian)\n",
        "    BR.fit(X.iloc[tr_in], y[tr_in])\n",
        "    LR = Ridge(**grid_ridge)\n",
        "    LR.fit(X.iloc[tr_in], y[tr_in])\n",
        "    lgbm = LGBMRegressor(**grid_lgbm)\n",
        "    lgbm.fit(X.iloc[tr_in], y[tr_in])\n",
        "    scores.append(accuracy(y[val_in],BR.predict(X.iloc[val_in])*p1+LR.predict(X.iloc[val_in])*p2 + lgbm.predict(X.iloc[val_in])*p3))\n",
        " \n",
        "  return -np.mean(scores)"
      ],
      "execution_count": null,
      "outputs": []
    },
    {
      "cell_type": "code",
      "metadata": {
        "id": "QcEq_ZV-rYGO",
        "colab_type": "code",
        "colab": {}
      },
      "source": [
        "def hyp_Tunning(trial):\n",
        "  d1 = trial.suggest_int('d1',2,2000)\n",
        "  d2 = trial.suggest_int('d2',2,2000)\n",
        "  d3 = trial.suggest_loguniform('d3',0.1,0.99)\n",
        "  d4 = trial.suggest_int('d4',2,2000)\n",
        "  lr = trial.suggest_loguniform('lr',1e-6,1)\n",
        "\n",
        "  model = Sequential()\n",
        "  model.add(Dense(d1,activation='relu',dtype='float32'))\n",
        "  model.add(Dense(d2,activation='relu'))\n",
        "  model.add(Dropout(d3))\n",
        "  model.add(Dense(d4,activation='relu'))\n",
        "  model.add(Dense(1))\n",
        "  model.compile(optimizer = Adam(learning_rate=lr),loss = 'mae')\n",
        "  \n",
        "  scores = []\n",
        "  for tr_in, val_in in KFold().split(X, y):\n",
        "    model.fit(X.iloc[tr_in].values,y[tr_in],epochs=50,verbose=0)\n",
        "    preds = model.predict(X.iloc[val_in].values)\n",
        "    preds = preds.reshape((preds.shape[0],))\n",
        "    scores.append(accuracy(y[val_in],preds))\n",
        " \n",
        "  return -np.mean(scores)"
      ],
      "execution_count": null,
      "outputs": []
    },
    {
      "cell_type": "code",
      "metadata": {
        "id": "t_A6peiSW3Ex",
        "colab_type": "code",
        "colab": {
          "base_uri": "https://localhost:8080/",
          "height": 992
        },
        "outputId": "2b51b015-9ae7-40f2-84b1-ab7675c18778"
      },
      "source": [
        "study = optuna.create_study()\n",
        "study.optimize(hyp_Tunning,n_jobs=-1)"
      ],
      "execution_count": null,
      "outputs": [
        {
          "output_type": "stream",
          "text": [
            "\u001b[32m[I 2020-06-13 14:40:18,409]\u001b[0m Finished trial#1 with value: -32.96061396598816 with parameters: {'d1': 1883, 'd2': 1781, 'd3': 0.5509652089537553, 'd4': 164, 'lr': 5.8538815643597755e-05}. Best is trial#1 with value: -32.96061396598816.\u001b[0m\n",
            "\u001b[32m[I 2020-06-13 14:40:18,458]\u001b[0m Finished trial#0 with value: -76.58621191978455 with parameters: {'d1': 1566, 'd2': 1176, 'd3': 0.35960408980706643, 'd4': 1586, 'lr': 0.1314378190977103}. Best is trial#0 with value: -76.58621191978455.\u001b[0m\n",
            "\u001b[32m[I 2020-06-13 14:42:33,547]\u001b[0m Finished trial#2 with value: -76.35322362184525 with parameters: {'d1': 671, 'd2': 1692, 'd3': 0.6159575164294089, 'd4': 29, 'lr': 2.1490280768334244e-06}. Best is trial#0 with value: -76.58621191978455.\u001b[0m\n",
            "\u001b[32m[I 2020-06-13 14:42:33,757]\u001b[0m Finished trial#3 with value: -12.789307832717896 with parameters: {'d1': 1462, 'd2': 156, 'd3': 0.3269682234607257, 'd4': 1199, 'lr': 0.9366494293725399}. Best is trial#0 with value: -76.58621191978455.\u001b[0m\n",
            "\u001b[32m[I 2020-06-13 14:46:40,048]\u001b[0m Finished trial#4 with value: -64.64134067296982 with parameters: {'d1': 1100, 'd2': 1364, 'd3': 0.8123484052062768, 'd4': 842, 'lr': 8.841875340018522e-05}. Best is trial#0 with value: -76.58621191978455.\u001b[0m\n",
            "\u001b[32m[I 2020-06-13 14:46:40,750]\u001b[0m Finished trial#5 with value: -40.92671573162079 with parameters: {'d1': 1807, 'd2': 1556, 'd3': 0.3598437499161015, 'd4': 835, 'lr': 4.1659487493785454e-05}. Best is trial#0 with value: -76.58621191978455.\u001b[0m\n",
            "\u001b[32m[I 2020-06-13 14:49:16,462]\u001b[0m Finished trial#7 with value: -64.64445501565933 with parameters: {'d1': 600, 'd2': 837, 'd3': 0.9320594239811101, 'd4': 273, 'lr': 0.0007578347912566639}. Best is trial#0 with value: -76.58621191978455.\u001b[0m\n",
            "\u001b[32m[I 2020-06-13 14:49:17,236]\u001b[0m Finished trial#6 with value: -0.0 with parameters: {'d1': 672, 'd2': 1567, 'd3': 0.2380449180650441, 'd4': 963, 'lr': 1.2741648283328228e-05}. Best is trial#0 with value: -76.58621191978455.\u001b[0m\n",
            "\u001b[32m[I 2020-06-13 14:52:29,390]\u001b[0m Finished trial#8 with value: -79.0316954255104 with parameters: {'d1': 1575, 'd2': 797, 'd3': 0.5003256685779047, 'd4': 908, 'lr': 0.7137067501322766}. Best is trial#8 with value: -79.0316954255104.\u001b[0m\n",
            "\u001b[32m[I 2020-06-13 14:52:30,283]\u001b[0m Finished trial#9 with value: -79.26889210939407 with parameters: {'d1': 1713, 'd2': 700, 'd3': 0.22808680607058607, 'd4': 1559, 'lr': 0.009937859958166198}. Best is trial#9 with value: -79.26889210939407.\u001b[0m\n",
            "\u001b[32m[I 2020-06-13 14:54:39,156]\u001b[0m Finished trial#10 with value: -80.00260472297668 with parameters: {'d1': 726, 'd2': 436, 'd3': 0.8467118598617215, 'd4': 604, 'lr': 0.4949319499462164}. Best is trial#10 with value: -80.00260472297668.\u001b[0m\n",
            "\u001b[32m[I 2020-06-13 14:54:40,723]\u001b[0m Finished trial#11 with value: -77.93524414300919 with parameters: {'d1': 13, 'd2': 304, 'd3': 0.1063468266785846, 'd4': 1938, 'lr': 0.018668968711393428}. Best is trial#10 with value: -80.00260472297668.\u001b[0m\n",
            "\u001b[32m[I 2020-06-13 14:56:49,653]\u001b[0m Finished trial#12 with value: -65.12599647045135 with parameters: {'d1': 11, 'd2': 317, 'd3': 0.10172412056898827, 'd4': 1999, 'lr': 0.020992687452934925}. Best is trial#10 with value: -80.00260472297668.\u001b[0m\n",
            "\u001b[32m[I 2020-06-13 14:56:50,775]\u001b[0m Finished trial#13 with value: -80.84035158157349 with parameters: {'d1': 190, 'd2': 412, 'd3': 0.18178395128651584, 'd4': 423, 'lr': 0.018862942240258675}. Best is trial#13 with value: -80.84035158157349.\u001b[0m\n",
            "\u001b[32m[I 2020-06-13 14:58:57,014]\u001b[0m Finished trial#14 with value: -67.52696335315704 with parameters: {'d1': 993, 'd2': 567, 'd3': 0.17237552906801412, 'd4': 497, 'lr': 0.005867675444820541}. Best is trial#13 with value: -80.84035158157349.\u001b[0m\n",
            "\u001b[32m[I 2020-06-13 14:58:58,883]\u001b[0m Finished trial#15 with value: -80.78776329755783 with parameters: {'d1': 300, 'd2': 517, 'd3': 0.16608321175674096, 'd4': 441, 'lr': 0.19064361186556217}. Best is trial#13 with value: -80.84035158157349.\u001b[0m\n",
            "\u001b[32m[I 2020-06-13 15:01:01,727]\u001b[0m Finished trial#16 with value: -80.68944185972214 with parameters: {'d1': 341, 'd2': 52, 'd3': 0.15961843407722368, 'd4': 508, 'lr': 0.11415749853066356}. Best is trial#13 with value: -80.84035158157349.\u001b[0m\n",
            "\u001b[32m[I 2020-06-13 15:01:03,696]\u001b[0m Finished trial#17 with value: -80.3041559457779 with parameters: {'d1': 300, 'd2': 30, 'd3': 0.14246358776856652, 'd4': 363, 'lr': 0.1131227897549186}. Best is trial#13 with value: -80.84035158157349.\u001b[0m\n",
            "\u001b[32m[I 2020-06-13 15:03:14,099]\u001b[0m Finished trial#18 with value: -80.83457469940186 with parameters: {'d1': 235, 'd2': 1065, 'd3': 0.16994228338188777, 'd4': 263, 'lr': 0.0015203526468454765}. Best is trial#13 with value: -80.84035158157349.\u001b[0m\n",
            "\u001b[32m[I 2020-06-13 15:03:15,404]\u001b[0m Finished trial#19 with value: -80.76138287782669 with parameters: {'d1': 291, 'd2': 1009, 'd3': 0.1268779795246822, 'd4': 672, 'lr': 0.001666934658921552}. Best is trial#13 with value: -80.84035158157349.\u001b[0m\n",
            "\u001b[32m[I 2020-06-13 15:05:20,395]\u001b[0m Finished trial#20 with value: -80.81418722867966 with parameters: {'d1': 141, 'd2': 1093, 'd3': 0.2345094347715404, 'd4': 3, 'lr': 0.0009990079107754586}. Best is trial#13 with value: -80.84035158157349.\u001b[0m\n",
            "\u001b[32m[I 2020-06-13 15:05:22,246]\u001b[0m Finished trial#21 with value: -80.86545079946518 with parameters: {'d1': 71, 'd2': 1058, 'd3': 0.22191520796118275, 'd4': 42, 'lr': 0.0013068443496498953}. Best is trial#21 with value: -80.86545079946518.\u001b[0m\n",
            "\u001b[32m[I 2020-06-13 15:07:30,640]\u001b[0m Finished trial#22 with value: -80.86403697729111 with parameters: {'d1': 106, 'd2': 1124, 'd3': 0.2540592621813332, 'd4': 19, 'lr': 0.0008568861186828223}. Best is trial#21 with value: -80.86545079946518.\u001b[0m\n",
            "\u001b[32m[I 2020-06-13 15:07:31,662]\u001b[0m Finished trial#23 with value: -64.61421102285385 with parameters: {'d1': 491, 'd2': 1229, 'd3': 0.20684040486733832, 'd4': 101, 'lr': 0.0003832871617479615}. Best is trial#21 with value: -80.86545079946518.\u001b[0m\n",
            "\u001b[32m[I 2020-06-13 15:09:38,860]\u001b[0m Finished trial#24 with value: -32.13001787662506 with parameters: {'d1': 496, 'd2': 1239, 'd3': 0.26239527111693767, 'd4': 93, 'lr': 0.00041476738786413525}. Best is trial#21 with value: -80.86545079946518.\u001b[0m\n",
            "\u001b[32m[I 2020-06-13 15:09:40,585]\u001b[0m Finished trial#25 with value: -80.86724877357483 with parameters: {'d1': 151, 'd2': 1288, 'd3': 0.2763670867253125, 'd4': 15, 'lr': 0.00023681895691885687}. Best is trial#25 with value: -80.86724877357483.\u001b[0m\n",
            "\u001b[32m[I 2020-06-13 15:11:47,230]\u001b[0m Finished trial#26 with value: -80.96826314926147 with parameters: {'d1': 50, 'd2': 871, 'd3': 0.43523393052046433, 'd4': 239, 'lr': 0.005018083369403245}. Best is trial#26 with value: -80.96826314926147.\u001b[0m\n",
            "\u001b[32m[I 2020-06-13 15:11:51,258]\u001b[0m Finished trial#27 with value: -0.0 with parameters: {'d1': 35, 'd2': 1402, 'd3': 0.28604738890527565, 'd4': 252, 'lr': 0.0001550329653802854}. Best is trial#26 with value: -80.96826314926147.\u001b[0m\n",
            "\u001b[32m[I 2020-06-13 15:14:46,635]\u001b[0m Finished trial#28 with value: -80.77691227197647 with parameters: {'d1': 7, 'd2': 1988, 'd3': 0.408090313121044, 'd4': 1198, 'lr': 0.0039447383162799525}. Best is trial#26 with value: -80.96826314926147.\u001b[0m\n",
            "\u001b[32m[I 2020-06-13 15:14:50,078]\u001b[0m Finished trial#29 with value: -69.78521883487701 with parameters: {'d1': 444, 'd2': 891, 'd3': 0.4767452486320535, 'd4': 1195, 'lr': 0.005199552169370753}. Best is trial#26 with value: -80.96826314926147.\u001b[0m\n",
            "\u001b[32m[I 2020-06-13 15:17:24,387]\u001b[0m Finished trial#30 with value: -80.52174985408783 with parameters: {'d1': 935, 'd2': 905, 'd3': 0.4042663282094459, 'd4': 5, 'lr': 1.216359370496068e-05}. Best is trial#26 with value: -80.96826314926147.\u001b[0m\n",
            "\u001b[32m[I 2020-06-13 15:17:28,787]\u001b[0m Finished trial#31 with value: -25.428110659122467 with parameters: {'d1': 1034, 'd2': 1312, 'd3': 0.40444164760253865, 'd4': 697, 'lr': 1.9348452884120358e-05}. Best is trial#26 with value: -80.96826314926147.\u001b[0m\n",
            "\u001b[32m[I 2020-06-13 15:19:32,326]\u001b[0m Finished trial#32 with value: -64.55113619565964 with parameters: {'d1': 108, 'd2': 1299, 'd3': 0.300332378286432, 'd4': 190, 'lr': 0.00023314933704057496}. Best is trial#26 with value: -80.96826314926147.\u001b[0m\n",
            "\u001b[32m[I 2020-06-13 15:19:36,448]\u001b[0m Finished trial#33 with value: -80.86944073438644 with parameters: {'d1': 127, 'd2': 1156, 'd3': 0.3001069590452982, 'd4': 172, 'lr': 0.00023460859764109522}. Best is trial#26 with value: -80.96826314926147.\u001b[0m\n",
            "\u001b[32m[I 2020-06-13 15:21:42,980]\u001b[0m Finished trial#34 with value: -80.88484406471252 with parameters: {'d1': 119, 'd2': 1098, 'd3': 0.3350451996083563, 'd4': 18, 'lr': 0.0026395823179740574}. Best is trial#26 with value: -80.96826314926147.\u001b[0m\n",
            "\u001b[32m[I 2020-06-13 15:21:49,016]\u001b[0m Finished trial#35 with value: -0.0 with parameters: {'d1': 407, 'd2': 1478, 'd3': 0.6189016938943623, 'd4': 148, 'lr': 2.8140797584198424e-06}. Best is trial#26 with value: -80.96826314926147.\u001b[0m\n",
            "\u001b[32m[I 2020-06-13 15:23:59,522]\u001b[0m Finished trial#36 with value: -14.937064051628113 with parameters: {'d1': 393, 'd2': 1447, 'd3': 0.35888516342373084, 'd4': 172, 'lr': 2.1060566165733598e-06}. Best is trial#26 with value: -80.96826314926147.\u001b[0m\n",
            "\u001b[32m[I 2020-06-13 15:24:02,542]\u001b[0m Finished trial#37 with value: -64.58429396152496 with parameters: {'d1': 1250, 'd2': 678, 'd3': 0.3555015961076319, 'd4': 324, 'lr': 0.00011270426657093535}. Best is trial#26 with value: -80.96826314926147.\u001b[0m\n",
            "\u001b[32m[I 2020-06-13 15:26:13,602]\u001b[0m Finished trial#38 with value: -64.56579744815826 with parameters: {'d1': 1225, 'd2': 730, 'd3': 0.33511731148457496, 'd4': 323, 'lr': 7.037163148796609e-05}. Best is trial#26 with value: -80.96826314926147.\u001b[0m\n",
            "\u001b[32m[I 2020-06-13 15:26:22,258]\u001b[0m Finished trial#39 with value: -0.0 with parameters: {'d1': 197, 'd2': 1702, 'd3': 0.6646072166039458, 'd4': 189, 'lr': 2.7619562251707253e-05}. Best is trial#26 with value: -80.96826314926147.\u001b[0m\n",
            "\u001b[32m[I 2020-06-13 15:29:30,137]\u001b[0m Finished trial#40 with value: -32.10857450962067 with parameters: {'d1': 594, 'd2': 1712, 'd3': 0.6065139644759187, 'd4': 1519, 'lr': 3.6023180714834214e-05}. Best is trial#26 with value: -80.96826314926147.\u001b[0m\n",
            "\u001b[32m[I 2020-06-13 15:29:35,402]\u001b[0m Finished trial#41 with value: -80.92484474182129 with parameters: {'d1': 831, 'd2': 943, 'd3': 0.4815621403588271, 'd4': 576, 'lr': 0.0027004141006255027}. Best is trial#26 with value: -80.96826314926147.\u001b[0m\n",
            "\u001b[32m[I 2020-06-13 15:31:44,556]\u001b[0m Finished trial#42 with value: -64.38253998756409 with parameters: {'d1': 92, 'd2': 967, 'd3': 0.20894521671090208, 'd4': 90, 'lr': 0.00261918903517941}. Best is trial#26 with value: -80.96826314926147.\u001b[0m\n",
            "\u001b[32m[I 2020-06-13 15:31:48,128]\u001b[0m Finished trial#43 with value: -80.89877396821976 with parameters: {'d1': 826, 'd2': 1169, 'd3': 0.45356196275665794, 'd4': 572, 'lr': 0.0027992569434256765}. Best is trial#26 with value: -80.96826314926147.\u001b[0m\n",
            "\u001b[32m[I 2020-06-13 15:34:37,671]\u001b[0m Finished trial#44 with value: -80.79540193080902 with parameters: {'d1': 813, 'd2': 960, 'd3': 0.4827280715710582, 'd4': 588, 'lr': 0.0003729861322811331}. Best is trial#26 with value: -80.96826314926147.\u001b[0m\n",
            "\u001b[32m[I 2020-06-13 15:34:42,613]\u001b[0m Finished trial#45 with value: -80.82658857107162 with parameters: {'d1': 1207, 'd2': 1160, 'd3': 0.48013274335850253, 'd4': 736, 'lr': 0.009866093680632881}. Best is trial#26 with value: -80.96826314926147.\u001b[0m\n",
            "\u001b[32m[I 2020-06-13 15:37:28,631]\u001b[0m Finished trial#46 with value: -80.94403564929962 with parameters: {'d1': 839, 'd2': 1170, 'd3': 0.4379851940247305, 'd4': 807, 'lr': 0.009917719007387981}. Best is trial#26 with value: -80.96826314926147.\u001b[0m\n",
            "\u001b[32m[I 2020-06-13 15:37:32,135]\u001b[0m Finished trial#47 with value: -80.40803700685501 with parameters: {'d1': 758, 'd2': 806, 'd3': 0.41493987865325915, 'd4': 1021, 'lr': 0.05454918717973685}. Best is trial#26 with value: -80.96826314926147.\u001b[0m\n",
            "\u001b[32m[I 2020-06-13 15:39:46,739]\u001b[0m Finished trial#48 with value: -80.56732207536697 with parameters: {'d1': 793, 'd2': 820, 'd3': 0.5391874738862517, 'd4': 801, 'lr': 0.03773184021779747}. Best is trial#26 with value: -80.96826314926147.\u001b[0m\n",
            "\u001b[32m[I 2020-06-13 15:39:50,133]\u001b[0m Finished trial#49 with value: -80.32826036214828 with parameters: {'d1': 887, 'd2': 594, 'd3': 0.5469080853151761, 'd4': 787, 'lr': 0.030975666099040587}. Best is trial#26 with value: -80.96826314926147.\u001b[0m\n",
            "\u001b[32m[I 2020-06-13 15:42:15,315]\u001b[0m Finished trial#50 with value: -80.86650133132935 with parameters: {'d1': 585, 'd2': 616, 'd3': 0.7147974830508086, 'd4': 1065, 'lr': 0.00988389174224364}. Best is trial#26 with value: -80.96826314926147.\u001b[0m\n",
            "\u001b[32m[I 2020-06-13 15:42:20,259]\u001b[0m Finished trial#51 with value: -77.62414187192917 with parameters: {'d1': 625, 'd2': 1011, 'd3': 0.7279648416347279, 'd4': 1033, 'lr': 0.009946903931354945}. Best is trial#26 with value: -80.96826314926147.\u001b[0m\n"
          ],
          "name": "stderr"
        }
      ]
    },
    {
      "cell_type": "code",
      "metadata": {
        "id": "BGRrBgn7E8-v",
        "colab_type": "code",
        "colab": {}
      },
      "source": [
        "scores = []\n",
        "for tr_in, val_in in KFold().split(X_, y):\n",
        "  LR = LGBMRegressor()\n",
        "  LR.fit(X_.iloc[tr_in], y[tr_in])\n",
        "  scores.append(accuracy(y[val_in],LR.predict(X_.iloc[val_in])))"
      ],
      "execution_count": null,
      "outputs": []
    },
    {
      "cell_type": "code",
      "metadata": {
        "id": "jJSvLYwcNmrh",
        "colab_type": "code",
        "colab": {
          "base_uri": "https://localhost:8080/",
          "height": 35
        },
        "outputId": "88887c4e-d955-496e-9caa-7fc8bc5eb35a"
      },
      "source": [
        "np.mean(scores)"
      ],
      "execution_count": null,
      "outputs": [
        {
          "output_type": "execute_result",
          "data": {
            "text/plain": [
              "81.0431116674669"
            ]
          },
          "metadata": {
            "tags": []
          },
          "execution_count": 14
        }
      ]
    },
    {
      "cell_type": "code",
      "metadata": {
        "id": "fYQMNZcfQFIr",
        "colab_type": "code",
        "colab": {}
      },
      "source": [
        "LR = LGBMRegressor()\n",
        "LR.fit(X_, y)\n",
        "preds = LR.predict(test_)"
      ],
      "execution_count": null,
      "outputs": []
    },
    {
      "cell_type": "code",
      "metadata": {
        "id": "o-igpmavQBuB",
        "colab_type": "code",
        "colab": {}
      },
      "source": [
        "ss = pd.DataFrame()\n",
        "ss['Employee_ID'] = test_eid\n",
        "ss['Attrition_rate'] = preds\n",
        "\n",
        "ss.to_csv(path+'submission.csv',index=False)"
      ],
      "execution_count": null,
      "outputs": []
    },
    {
      "cell_type": "code",
      "metadata": {
        "id": "Yj197PLHQ0cG",
        "colab_type": "code",
        "colab": {}
      },
      "source": [
        ""
      ],
      "execution_count": null,
      "outputs": []
    }
  ]
}