{
  "nbformat": 4,
  "nbformat_minor": 0,
  "metadata": {
    "kernelspec": {
      "name": "python3",
      "display_name": "Python 3",
      "language": "python"
    },
    "language_info": {
      "name": "python",
      "version": "3.7.6",
      "mimetype": "text/x-python",
      "codemirror_mode": {
        "name": "ipython",
        "version": 3
      },
      "pygments_lexer": "ipython3",
      "nbconvert_exporter": "python",
      "file_extension": ".py"
    },
    "colab": {
      "name": "Hackerearth2.ipynb",
      "provenance": []
    }
  },
  "cells": [
    {
      "cell_type": "code",
      "metadata": {
        "id": "o0pgQxtkTZwS",
        "colab_type": "code",
        "colab": {
          "base_uri": "https://localhost:8080/",
          "height": 129
        },
        "outputId": "9c153f4b-ec70-4892-c833-c1a971a181c0"
      },
      "source": [
        "from google.colab import drive\n",
        "drive.mount('/content/drive')"
      ],
      "execution_count": null,
      "outputs": [
        {
          "output_type": "stream",
          "text": [
            "Go to this URL in a browser: https://accounts.google.com/o/oauth2/auth?client_id=947318989803-6bn6qk8qdgf4n4g3pfee6491hc0brc4i.apps.googleusercontent.com&redirect_uri=urn%3aietf%3awg%3aoauth%3a2.0%3aoob&response_type=code&scope=email%20https%3a%2f%2fwww.googleapis.com%2fauth%2fdocs.test%20https%3a%2f%2fwww.googleapis.com%2fauth%2fdrive%20https%3a%2f%2fwww.googleapis.com%2fauth%2fdrive.photos.readonly%20https%3a%2f%2fwww.googleapis.com%2fauth%2fpeopleapi.readonly\n",
            "\n",
            "Enter your authorization code:\n",
            "··········\n",
            "Mounted at /content/drive\n"
          ],
          "name": "stdout"
        }
      ]
    },
    {
      "cell_type": "code",
      "metadata": {
        "id": "cz-TCG8hTv2m",
        "colab_type": "code",
        "colab": {
          "base_uri": "https://localhost:8080/",
          "height": 294
        },
        "outputId": "a964a972-1661-4d29-cd3e-f430fd9388f3"
      },
      "source": [
        "!pip install catboost"
      ],
      "execution_count": null,
      "outputs": [
        {
          "output_type": "stream",
          "text": [
            "Requirement already satisfied: catboost in /usr/local/lib/python3.6/dist-packages (0.23.2)\n",
            "Requirement already satisfied: scipy in /usr/local/lib/python3.6/dist-packages (from catboost) (1.4.1)\n",
            "Requirement already satisfied: numpy>=1.16.0 in /usr/local/lib/python3.6/dist-packages (from catboost) (1.18.5)\n",
            "Requirement already satisfied: six in /usr/local/lib/python3.6/dist-packages (from catboost) (1.12.0)\n",
            "Requirement already satisfied: pandas>=0.24.0 in /usr/local/lib/python3.6/dist-packages (from catboost) (1.0.4)\n",
            "Requirement already satisfied: graphviz in /usr/local/lib/python3.6/dist-packages (from catboost) (0.10.1)\n",
            "Requirement already satisfied: plotly in /usr/local/lib/python3.6/dist-packages (from catboost) (4.4.1)\n",
            "Requirement already satisfied: matplotlib in /usr/local/lib/python3.6/dist-packages (from catboost) (3.2.1)\n",
            "Requirement already satisfied: python-dateutil>=2.6.1 in /usr/local/lib/python3.6/dist-packages (from pandas>=0.24.0->catboost) (2.8.1)\n",
            "Requirement already satisfied: pytz>=2017.2 in /usr/local/lib/python3.6/dist-packages (from pandas>=0.24.0->catboost) (2018.9)\n",
            "Requirement already satisfied: retrying>=1.3.3 in /usr/local/lib/python3.6/dist-packages (from plotly->catboost) (1.3.3)\n",
            "Requirement already satisfied: cycler>=0.10 in /usr/local/lib/python3.6/dist-packages (from matplotlib->catboost) (0.10.0)\n",
            "Requirement already satisfied: pyparsing!=2.0.4,!=2.1.2,!=2.1.6,>=2.0.1 in /usr/local/lib/python3.6/dist-packages (from matplotlib->catboost) (2.4.7)\n",
            "Requirement already satisfied: kiwisolver>=1.0.1 in /usr/local/lib/python3.6/dist-packages (from matplotlib->catboost) (1.2.0)\n"
          ],
          "name": "stdout"
        }
      ]
    },
    {
      "cell_type": "code",
      "metadata": {
        "id": "Qmzw9xXFTk6M",
        "colab_type": "code",
        "colab": {
          "base_uri": "https://localhost:8080/",
          "height": 368
        },
        "outputId": "9165330a-445e-4e66-d798-50ed2d12a264"
      },
      "source": [
        "!pip install catboost"
      ],
      "execution_count": null,
      "outputs": [
        {
          "output_type": "stream",
          "text": [
            "Collecting catboost\n",
            "\u001b[?25l  Downloading https://files.pythonhosted.org/packages/b2/aa/e61819d04ef2bbee778bf4b3a748db1f3ad23512377e43ecfdc3211437a0/catboost-0.23.2-cp36-none-manylinux1_x86_64.whl (64.8MB)\n",
            "\u001b[K     |████████████████████████████████| 64.8MB 59kB/s \n",
            "\u001b[?25hRequirement already satisfied: scipy in /usr/local/lib/python3.6/dist-packages (from catboost) (1.4.1)\n",
            "Requirement already satisfied: six in /usr/local/lib/python3.6/dist-packages (from catboost) (1.12.0)\n",
            "Requirement already satisfied: matplotlib in /usr/local/lib/python3.6/dist-packages (from catboost) (3.2.1)\n",
            "Requirement already satisfied: numpy>=1.16.0 in /usr/local/lib/python3.6/dist-packages (from catboost) (1.18.5)\n",
            "Requirement already satisfied: graphviz in /usr/local/lib/python3.6/dist-packages (from catboost) (0.10.1)\n",
            "Requirement already satisfied: pandas>=0.24.0 in /usr/local/lib/python3.6/dist-packages (from catboost) (1.0.4)\n",
            "Requirement already satisfied: plotly in /usr/local/lib/python3.6/dist-packages (from catboost) (4.4.1)\n",
            "Requirement already satisfied: kiwisolver>=1.0.1 in /usr/local/lib/python3.6/dist-packages (from matplotlib->catboost) (1.2.0)\n",
            "Requirement already satisfied: python-dateutil>=2.1 in /usr/local/lib/python3.6/dist-packages (from matplotlib->catboost) (2.8.1)\n",
            "Requirement already satisfied: pyparsing!=2.0.4,!=2.1.2,!=2.1.6,>=2.0.1 in /usr/local/lib/python3.6/dist-packages (from matplotlib->catboost) (2.4.7)\n",
            "Requirement already satisfied: cycler>=0.10 in /usr/local/lib/python3.6/dist-packages (from matplotlib->catboost) (0.10.0)\n",
            "Requirement already satisfied: pytz>=2017.2 in /usr/local/lib/python3.6/dist-packages (from pandas>=0.24.0->catboost) (2018.9)\n",
            "Requirement already satisfied: retrying>=1.3.3 in /usr/local/lib/python3.6/dist-packages (from plotly->catboost) (1.3.3)\n",
            "Installing collected packages: catboost\n",
            "Successfully installed catboost-0.23.2\n"
          ],
          "name": "stdout"
        }
      ]
    },
    {
      "cell_type": "code",
      "metadata": {
        "_uuid": "8f2839f25d086af736a60e9eeb907d3b93b6e0e5",
        "_cell_guid": "b1076dfc-b9ad-4769-8c92-a6c4dae69d19",
        "trusted": true,
        "id": "3q011NAzTTRq",
        "colab_type": "code",
        "colab": {
          "base_uri": "https://localhost:8080/",
          "height": 393
        },
        "outputId": "8bd0de4f-864c-4ef6-8674-27082bf26be7"
      },
      "source": [
        "import pandas as pd\n",
        "\n",
        "import numpy as np\n",
        "\n",
        "from sklearn.preprocessing import LabelEncoder, StandardScaler, MinMaxScaler, PolynomialFeatures\n",
        "from sklearn.metrics import mean_squared_error\n",
        "from sklearn.model_selection import KFold\n",
        "from sklearn.model_selection import train_test_split\n",
        "from sklearn.ensemble import ExtraTreesRegressor, VotingRegressor\n",
        "from sklearn.linear_model import BayesianRidge, LinearRegression, LassoLars, Ridge\n",
        "\n",
        "# import sweetviz as sv\n",
        "\n",
        "import matplotlib.pyplot as plt\n",
        "\n",
        "import seaborn as sns\n",
        "\n",
        "from xgboost import XGBRegressor\n",
        "\n",
        "from catboost import CatBoostRegressor\n",
        "\n",
        "from lightgbm import LGBMRegressor\n",
        "\n",
        "import tqdm\n",
        "\n",
        "import optuna\n",
        "\n",
        "# from autofeat import AutoFeatRegressor\n",
        "\n",
        "# from pystacknet.pystacknet import StackNetRegressor\n",
        "\n",
        "# from GML.Ghalat_Machine_Learning import Ghalat_Machine_Learning"
      ],
      "execution_count": null,
      "outputs": [
        {
          "output_type": "error",
          "ename": "ModuleNotFoundError",
          "evalue": "ignored",
          "traceback": [
            "\u001b[0;31m---------------------------------------------------------------------------\u001b[0m",
            "\u001b[0;31mModuleNotFoundError\u001b[0m                       Traceback (most recent call last)",
            "\u001b[0;32m<ipython-input-29-f348533da710>\u001b[0m in \u001b[0;36m<module>\u001b[0;34m()\u001b[0m\n\u001b[1;32m     24\u001b[0m \u001b[0;32mimport\u001b[0m \u001b[0mtqdm\u001b[0m\u001b[0;34m\u001b[0m\u001b[0;34m\u001b[0m\u001b[0m\n\u001b[1;32m     25\u001b[0m \u001b[0;34m\u001b[0m\u001b[0m\n\u001b[0;32m---> 26\u001b[0;31m \u001b[0;32mimport\u001b[0m \u001b[0moptuna\u001b[0m\u001b[0;34m\u001b[0m\u001b[0;34m\u001b[0m\u001b[0m\n\u001b[0m\u001b[1;32m     27\u001b[0m \u001b[0;34m\u001b[0m\u001b[0m\n\u001b[1;32m     28\u001b[0m \u001b[0;31m# from autofeat import AutoFeatRegressor\u001b[0m\u001b[0;34m\u001b[0m\u001b[0;34m\u001b[0m\u001b[0;34m\u001b[0m\u001b[0m\n",
            "\u001b[0;31mModuleNotFoundError\u001b[0m: No module named 'optuna'",
            "",
            "\u001b[0;31m---------------------------------------------------------------------------\u001b[0;32m\nNOTE: If your import is failing due to a missing package, you can\nmanually install dependencies using either !pip or !apt.\n\nTo view examples of installing some common dependencies, click the\n\"Open Examples\" button below.\n\u001b[0;31m---------------------------------------------------------------------------\u001b[0m\n"
          ]
        }
      ]
    },
    {
      "cell_type": "code",
      "metadata": {
        "_uuid": "d629ff2d2480ee46fbb7e2d37f6b5fab8052498a",
        "_cell_guid": "79c7e3d0-c299-4dcb-8224-4455121ee9b0",
        "trusted": true,
        "id": "sSHr0mqDTTSA",
        "colab_type": "code",
        "colab": {}
      },
      "source": [
        "def accuracy(y_true,y_pred):\n",
        "  return 100 * max(0,1-np.sqrt(mean_squared_error(y_true,y_pred)))"
      ],
      "execution_count": null,
      "outputs": []
    },
    {
      "cell_type": "code",
      "metadata": {
        "trusted": true,
        "id": "PdPOu9vUTTSS",
        "colab_type": "code",
        "colab": {}
      },
      "source": [
        "path = 'drive/My Drive/Hackerearth/ML1/Dataset/'"
      ],
      "execution_count": null,
      "outputs": []
    },
    {
      "cell_type": "code",
      "metadata": {
        "trusted": true,
        "id": "e3NRXXBXTTSc",
        "colab_type": "code",
        "colab": {}
      },
      "source": [
        "train = pd.read_csv(path+'Train.csv')\n",
        "test = pd.read_csv(path+'Test.csv')"
      ],
      "execution_count": null,
      "outputs": []
    },
    {
      "cell_type": "code",
      "metadata": {
        "trusted": true,
        "id": "a_vBaS_kTTSk",
        "colab_type": "code",
        "colab": {}
      },
      "source": [
        "test_eid = test['Employee_ID'].copy()"
      ],
      "execution_count": null,
      "outputs": []
    },
    {
      "cell_type": "code",
      "metadata": {
        "trusted": true,
        "id": "1MxAiO9WTTSv",
        "colab_type": "code",
        "colab": {}
      },
      "source": [
        "train['Employee_ID'] = train['Employee_ID'].apply(lambda x: int(x.split('_')[1]))\n",
        "test['Employee_ID'] = test['Employee_ID'].apply(lambda x: int(x.split('_')[1]))"
      ],
      "execution_count": null,
      "outputs": []
    },
    {
      "cell_type": "code",
      "metadata": {
        "trusted": true,
        "id": "m9yyYngiTTS5",
        "colab_type": "code",
        "colab": {
          "base_uri": "https://localhost:8080/",
          "height": 146
        },
        "outputId": "d66cae07-f2db-49c3-bdd5-41d548a88c27"
      },
      "source": [
        "train.groupby('Post_Level')['Attrition_rate'].mean()"
      ],
      "execution_count": null,
      "outputs": [
        {
          "output_type": "execute_result",
          "data": {
            "text/plain": [
              "Post_Level\n",
              "1    0.189832\n",
              "2    0.185217\n",
              "3    0.187232\n",
              "4    0.195130\n",
              "5    0.198197\n",
              "Name: Attrition_rate, dtype: float64"
            ]
          },
          "metadata": {
            "tags": []
          },
          "execution_count": 10
        }
      ]
    },
    {
      "cell_type": "code",
      "metadata": {
        "trusted": true,
        "id": "hD5W7zkITTTC",
        "colab_type": "code",
        "colab": {}
      },
      "source": [
        "avg_att_dic = dict(train.groupby('Travel_Rate')['Attrition_rate'].mean())"
      ],
      "execution_count": null,
      "outputs": []
    },
    {
      "cell_type": "code",
      "metadata": {
        "trusted": true,
        "id": "UL0REClvTTTJ",
        "colab_type": "code",
        "colab": {}
      },
      "source": [
        "def avg_att(var):\n",
        "    try:\n",
        "        return avg_att_dic(var)\n",
        "    except:\n",
        "        return train['Attrition_rate'].mean()\n",
        "    \n",
        "def growth_rate(s):\n",
        "    if s['growth_rate'] <= 30:\n",
        "        return 'Low'\n",
        "    elif s['growth_rate'] <= 55:\n",
        "        return 'Medium'\n",
        "    else:\n",
        "        return 'High'"
      ],
      "execution_count": null,
      "outputs": []
    },
    {
      "cell_type": "code",
      "metadata": {
        "trusted": true,
        "id": "F5f0IRvSTTTU",
        "colab_type": "code",
        "colab": {}
      },
      "source": [
        "tr1 = train['Travel_Rate'].apply(avg_att)\n",
        "te1 = test['Travel_Rate'].apply(avg_att)"
      ],
      "execution_count": null,
      "outputs": []
    },
    {
      "cell_type": "code",
      "metadata": {
        "trusted": true,
        "id": "leCMlZCTTTTc",
        "colab_type": "code",
        "colab": {}
      },
      "source": [
        "train['growth_rate_level'] = train.apply(growth_rate,axis=1)\n",
        "test['growth_rate_level'] = train.apply(growth_rate,axis=1)"
      ],
      "execution_count": null,
      "outputs": []
    },
    {
      "cell_type": "code",
      "metadata": {
        "trusted": true,
        "id": "y2qEiDOrTTTk",
        "colab_type": "code",
        "colab": {}
      },
      "source": [
        "grid_lgbm = {\n",
        "    'max_depth':16,\n",
        "    'learning_rate':0.002,\n",
        "    'n_estimators':1704,\n",
        "    'min_child_weight':17,\n",
        "    'eta':0.364\n",
        "}"
      ],
      "execution_count": null,
      "outputs": []
    },
    {
      "cell_type": "code",
      "metadata": {
        "trusted": true,
        "id": "otB1Df6ZTTTr",
        "colab_type": "code",
        "colab": {}
      },
      "source": [
        "cols = train.columns[train.dtypes == 'object']\n",
        "\n",
        "\n",
        "for col in cols:\n",
        "  dummies = pd.get_dummies(train[col])\n",
        "  train.drop([col],axis=1,inplace=True)\n",
        "  train = pd.concat([train,dummies],axis=1)\n",
        "  dummies = pd.get_dummies(test[col])\n",
        "  test.drop([col],axis=1,inplace=True)\n",
        "  test = pd.concat([test,dummies],axis=1)\n",
        "\n",
        "\"\"\"\n",
        "for col in cols:\n",
        "    encoder = LabelEncoder()\n",
        "    train[col] = encoder.fit_transform(train[col])\n",
        "    test[col] = encoder.transform(test[col])\n",
        "\"\"\"\n",
        "\n",
        "for col in test.columns:\n",
        "    if train[col].isnull().any():\n",
        "        model = LGBMRegressor(**grid_lgbm)\n",
        "        t1 = train[~pd.isna(train[col])].copy()\n",
        "        t1.drop(['Attrition_rate'],axis=1,inplace=True)\n",
        "        t2 = train[pd.isna(train[col])].copy()\n",
        "        t2.drop(['Attrition_rate','Age'],axis=1,inplace=True)\n",
        "        t3 = test[pd.isna(test[col])].copy()\n",
        "        t3.drop(['Age'],axis=1,inplace=True)\n",
        "        model.fit(t1.drop([col],axis=1),t1[col])\n",
        "        train.loc[t2.index,col] = model.predict(t2)\n",
        "        test.loc[t3.index,col] = model.predict(t3)"
      ],
      "execution_count": null,
      "outputs": []
    },
    {
      "cell_type": "code",
      "metadata": {
        "trusted": true,
        "id": "VjjEKMyjTTT1",
        "colab_type": "code",
        "colab": {}
      },
      "source": [
        "grid_bayesian = {\n",
        "    'n_iter':10000,\n",
        "    'tol':6.42e-06,\n",
        "    'alpha_1':0.0001,\n",
        "    'alpha_2':6.58e-05,\n",
        "    'lambda_1':0.999,\n",
        "    'lambda_2':2.24e-05,\n",
        "    'compute_score':True,\n",
        "    'fit_intercept':True,\n",
        "    'normalize':False\n",
        "}\n",
        "\n",
        "grid_ridge = {\n",
        "    'max_iter':90000,\n",
        "    'alpha': 0.23143352151759083, \n",
        "    'fit_intercept': True, \n",
        "    'normalize': False, \n",
        "    'tol': 0.0005243805101392493, \n",
        "    'solver': 'saga'\n",
        "}"
      ],
      "execution_count": null,
      "outputs": []
    },
    {
      "cell_type": "code",
      "metadata": {
        "trusted": true,
        "id": "8ehXEylpTTT8",
        "colab_type": "code",
        "colab": {}
      },
      "source": [
        "X = train.drop(['Attrition_rate'],axis=1)\n",
        "y = train['Attrition_rate'].copy().values"
      ],
      "execution_count": null,
      "outputs": []
    },
    {
      "cell_type": "code",
      "metadata": {
        "trusted": true,
        "id": "ffzRVKGaTTUG",
        "colab_type": "code",
        "colab": {}
      },
      "source": [
        "lgbm = LGBMRegressor(**grid_lgbm)\n",
        "lgbm.fit(X, y)\n",
        "\n",
        "fi = pd.DataFrame()\n",
        "fi['A'] = X.columns.values\n",
        "fi['B'] = lgbm.feature_importances_"
      ],
      "execution_count": null,
      "outputs": []
    },
    {
      "cell_type": "code",
      "metadata": {
        "trusted": true,
        "id": "GtHa4q0wTTUL",
        "colab_type": "code",
        "colab": {
          "base_uri": "https://localhost:8080/",
          "height": 1000
        },
        "outputId": "73e0d5fb-71d6-4d81-8933-41f4632c0fa2"
      },
      "source": [
        "fi"
      ],
      "execution_count": null,
      "outputs": [
        {
          "output_type": "execute_result",
          "data": {
            "text/html": [
              "<div>\n",
              "<style scoped>\n",
              "    .dataframe tbody tr th:only-of-type {\n",
              "        vertical-align: middle;\n",
              "    }\n",
              "\n",
              "    .dataframe tbody tr th {\n",
              "        vertical-align: top;\n",
              "    }\n",
              "\n",
              "    .dataframe thead th {\n",
              "        text-align: right;\n",
              "    }\n",
              "</style>\n",
              "<table border=\"1\" class=\"dataframe\">\n",
              "  <thead>\n",
              "    <tr style=\"text-align: right;\">\n",
              "      <th></th>\n",
              "      <th>A</th>\n",
              "      <th>B</th>\n",
              "    </tr>\n",
              "  </thead>\n",
              "  <tbody>\n",
              "    <tr>\n",
              "      <th>0</th>\n",
              "      <td>Employee_ID</td>\n",
              "      <td>5981</td>\n",
              "    </tr>\n",
              "    <tr>\n",
              "      <th>1</th>\n",
              "      <td>Age</td>\n",
              "      <td>3898</td>\n",
              "    </tr>\n",
              "    <tr>\n",
              "      <th>2</th>\n",
              "      <td>Education_Level</td>\n",
              "      <td>1430</td>\n",
              "    </tr>\n",
              "    <tr>\n",
              "      <th>3</th>\n",
              "      <td>Time_of_service</td>\n",
              "      <td>4166</td>\n",
              "    </tr>\n",
              "    <tr>\n",
              "      <th>4</th>\n",
              "      <td>Time_since_promotion</td>\n",
              "      <td>1173</td>\n",
              "    </tr>\n",
              "    <tr>\n",
              "      <th>5</th>\n",
              "      <td>growth_rate</td>\n",
              "      <td>5204</td>\n",
              "    </tr>\n",
              "    <tr>\n",
              "      <th>6</th>\n",
              "      <td>Travel_Rate</td>\n",
              "      <td>1113</td>\n",
              "    </tr>\n",
              "    <tr>\n",
              "      <th>7</th>\n",
              "      <td>Post_Level</td>\n",
              "      <td>1987</td>\n",
              "    </tr>\n",
              "    <tr>\n",
              "      <th>8</th>\n",
              "      <td>Pay_Scale</td>\n",
              "      <td>2546</td>\n",
              "    </tr>\n",
              "    <tr>\n",
              "      <th>9</th>\n",
              "      <td>Work_Life_balance</td>\n",
              "      <td>1611</td>\n",
              "    </tr>\n",
              "    <tr>\n",
              "      <th>10</th>\n",
              "      <td>VAR1</td>\n",
              "      <td>1431</td>\n",
              "    </tr>\n",
              "    <tr>\n",
              "      <th>11</th>\n",
              "      <td>VAR2</td>\n",
              "      <td>2550</td>\n",
              "    </tr>\n",
              "    <tr>\n",
              "      <th>12</th>\n",
              "      <td>VAR3</td>\n",
              "      <td>1165</td>\n",
              "    </tr>\n",
              "    <tr>\n",
              "      <th>13</th>\n",
              "      <td>VAR4</td>\n",
              "      <td>1521</td>\n",
              "    </tr>\n",
              "    <tr>\n",
              "      <th>14</th>\n",
              "      <td>VAR5</td>\n",
              "      <td>1642</td>\n",
              "    </tr>\n",
              "    <tr>\n",
              "      <th>15</th>\n",
              "      <td>VAR6</td>\n",
              "      <td>1849</td>\n",
              "    </tr>\n",
              "    <tr>\n",
              "      <th>16</th>\n",
              "      <td>VAR7</td>\n",
              "      <td>1732</td>\n",
              "    </tr>\n",
              "    <tr>\n",
              "      <th>17</th>\n",
              "      <td>F</td>\n",
              "      <td>897</td>\n",
              "    </tr>\n",
              "    <tr>\n",
              "      <th>18</th>\n",
              "      <td>M</td>\n",
              "      <td>0</td>\n",
              "    </tr>\n",
              "    <tr>\n",
              "      <th>19</th>\n",
              "      <td>Married</td>\n",
              "      <td>791</td>\n",
              "    </tr>\n",
              "    <tr>\n",
              "      <th>20</th>\n",
              "      <td>Single</td>\n",
              "      <td>0</td>\n",
              "    </tr>\n",
              "    <tr>\n",
              "      <th>21</th>\n",
              "      <td>Clinton</td>\n",
              "      <td>269</td>\n",
              "    </tr>\n",
              "    <tr>\n",
              "      <th>22</th>\n",
              "      <td>Franklin</td>\n",
              "      <td>420</td>\n",
              "    </tr>\n",
              "    <tr>\n",
              "      <th>23</th>\n",
              "      <td>Lebanon</td>\n",
              "      <td>260</td>\n",
              "    </tr>\n",
              "    <tr>\n",
              "      <th>24</th>\n",
              "      <td>Springfield</td>\n",
              "      <td>323</td>\n",
              "    </tr>\n",
              "    <tr>\n",
              "      <th>25</th>\n",
              "      <td>Washington</td>\n",
              "      <td>232</td>\n",
              "    </tr>\n",
              "    <tr>\n",
              "      <th>26</th>\n",
              "      <td>Accounting and Finance</td>\n",
              "      <td>96</td>\n",
              "    </tr>\n",
              "    <tr>\n",
              "      <th>27</th>\n",
              "      <td>Human Resource Management</td>\n",
              "      <td>3</td>\n",
              "    </tr>\n",
              "    <tr>\n",
              "      <th>28</th>\n",
              "      <td>IT</td>\n",
              "      <td>468</td>\n",
              "    </tr>\n",
              "    <tr>\n",
              "      <th>29</th>\n",
              "      <td>Logistics</td>\n",
              "      <td>258</td>\n",
              "    </tr>\n",
              "    <tr>\n",
              "      <th>30</th>\n",
              "      <td>Marketing</td>\n",
              "      <td>7</td>\n",
              "    </tr>\n",
              "    <tr>\n",
              "      <th>31</th>\n",
              "      <td>Operarions</td>\n",
              "      <td>319</td>\n",
              "    </tr>\n",
              "    <tr>\n",
              "      <th>32</th>\n",
              "      <td>Production</td>\n",
              "      <td>54</td>\n",
              "    </tr>\n",
              "    <tr>\n",
              "      <th>33</th>\n",
              "      <td>Purchasing</td>\n",
              "      <td>344</td>\n",
              "    </tr>\n",
              "    <tr>\n",
              "      <th>34</th>\n",
              "      <td>Quality</td>\n",
              "      <td>40</td>\n",
              "    </tr>\n",
              "    <tr>\n",
              "      <th>35</th>\n",
              "      <td>R&amp;D</td>\n",
              "      <td>297</td>\n",
              "    </tr>\n",
              "    <tr>\n",
              "      <th>36</th>\n",
              "      <td>Sales</td>\n",
              "      <td>260</td>\n",
              "    </tr>\n",
              "    <tr>\n",
              "      <th>37</th>\n",
              "      <td>Security</td>\n",
              "      <td>101</td>\n",
              "    </tr>\n",
              "    <tr>\n",
              "      <th>38</th>\n",
              "      <td>Analytical</td>\n",
              "      <td>495</td>\n",
              "    </tr>\n",
              "    <tr>\n",
              "      <th>39</th>\n",
              "      <td>Behavioral</td>\n",
              "      <td>350</td>\n",
              "    </tr>\n",
              "    <tr>\n",
              "      <th>40</th>\n",
              "      <td>Conceptual</td>\n",
              "      <td>478</td>\n",
              "    </tr>\n",
              "    <tr>\n",
              "      <th>41</th>\n",
              "      <td>Directive</td>\n",
              "      <td>676</td>\n",
              "    </tr>\n",
              "    <tr>\n",
              "      <th>42</th>\n",
              "      <td>type0</td>\n",
              "      <td>433</td>\n",
              "    </tr>\n",
              "    <tr>\n",
              "      <th>43</th>\n",
              "      <td>type1</td>\n",
              "      <td>185</td>\n",
              "    </tr>\n",
              "    <tr>\n",
              "      <th>44</th>\n",
              "      <td>type2</td>\n",
              "      <td>1028</td>\n",
              "    </tr>\n",
              "    <tr>\n",
              "      <th>45</th>\n",
              "      <td>type3</td>\n",
              "      <td>506</td>\n",
              "    </tr>\n",
              "    <tr>\n",
              "      <th>46</th>\n",
              "      <td>type4</td>\n",
              "      <td>193</td>\n",
              "    </tr>\n",
              "    <tr>\n",
              "      <th>47</th>\n",
              "      <td>High</td>\n",
              "      <td>0</td>\n",
              "    </tr>\n",
              "    <tr>\n",
              "      <th>48</th>\n",
              "      <td>Low</td>\n",
              "      <td>0</td>\n",
              "    </tr>\n",
              "    <tr>\n",
              "      <th>49</th>\n",
              "      <td>Medium</td>\n",
              "      <td>338</td>\n",
              "    </tr>\n",
              "  </tbody>\n",
              "</table>\n",
              "</div>"
            ],
            "text/plain": [
              "                            A     B\n",
              "0                 Employee_ID  5981\n",
              "1                         Age  3898\n",
              "2             Education_Level  1430\n",
              "3             Time_of_service  4166\n",
              "4        Time_since_promotion  1173\n",
              "5                 growth_rate  5204\n",
              "6                 Travel_Rate  1113\n",
              "7                  Post_Level  1987\n",
              "8                   Pay_Scale  2546\n",
              "9           Work_Life_balance  1611\n",
              "10                       VAR1  1431\n",
              "11                       VAR2  2550\n",
              "12                       VAR3  1165\n",
              "13                       VAR4  1521\n",
              "14                       VAR5  1642\n",
              "15                       VAR6  1849\n",
              "16                       VAR7  1732\n",
              "17                          F   897\n",
              "18                          M     0\n",
              "19                    Married   791\n",
              "20                     Single     0\n",
              "21                    Clinton   269\n",
              "22                   Franklin   420\n",
              "23                    Lebanon   260\n",
              "24                Springfield   323\n",
              "25                 Washington   232\n",
              "26     Accounting and Finance    96\n",
              "27  Human Resource Management     3\n",
              "28                         IT   468\n",
              "29                  Logistics   258\n",
              "30                  Marketing     7\n",
              "31                 Operarions   319\n",
              "32                 Production    54\n",
              "33                 Purchasing   344\n",
              "34                    Quality    40\n",
              "35                        R&D   297\n",
              "36                      Sales   260\n",
              "37                   Security   101\n",
              "38                 Analytical   495\n",
              "39                 Behavioral   350\n",
              "40                 Conceptual   478\n",
              "41                  Directive   676\n",
              "42                      type0   433\n",
              "43                      type1   185\n",
              "44                      type2  1028\n",
              "45                      type3   506\n",
              "46                      type4   193\n",
              "47                       High     0\n",
              "48                        Low     0\n",
              "49                     Medium   338"
            ]
          },
          "metadata": {
            "tags": []
          },
          "execution_count": 20
        }
      ]
    },
    {
      "cell_type": "code",
      "metadata": {
        "trusted": true,
        "id": "OY0QR1vTTTUT",
        "colab_type": "code",
        "colab": {}
      },
      "source": [
        "br = BayesianRidge(**grid_bayesian)\n",
        "ridge = Ridge(**grid_ridge)"
      ],
      "execution_count": null,
      "outputs": []
    },
    {
      "cell_type": "code",
      "metadata": {
        "trusted": true,
        "id": "3j2VlufnTTUh",
        "colab_type": "code",
        "colab": {
          "base_uri": "https://localhost:8080/",
          "height": 35
        },
        "outputId": "5353df1f-e482-461d-c75b-a3d68e482b92"
      },
      "source": [
        "scores = []\n",
        "for tr_in, val_in in tqdm.tqdm(KFold().split(X, y)):\n",
        "    br.fit(X.iloc[tr_in], y[tr_in])\n",
        "    ridge.fit(X.iloc[tr_in], y[tr_in])\n",
        "    scores.append(accuracy(y[val_in],\n",
        "                           br.predict(X.iloc[val_in])*0.9 + \n",
        "                           ridge.predict(X.iloc[val_in])*0.1))"
      ],
      "execution_count": null,
      "outputs": [
        {
          "output_type": "stream",
          "text": [
            "5it [00:18,  3.73s/it]\n"
          ],
          "name": "stderr"
        }
      ]
    },
    {
      "cell_type": "code",
      "metadata": {
        "id": "b_PzP8hqUP0f",
        "colab_type": "code",
        "colab": {}
      },
      "source": [
        "def tunning(trial):\n",
        "  learning_rate = trial.suggest_loguniform('learning_rate',1e-6,1)\n",
        "  depth = trial.suggest_int('depth',2,60)\n",
        "  "
      ],
      "execution_count": null,
      "outputs": []
    },
    {
      "cell_type": "code",
      "metadata": {
        "trusted": true,
        "id": "QqQu3I1-TTUa",
        "colab_type": "code",
        "colab": {
          "base_uri": "https://localhost:8080/",
          "height": 35
        },
        "outputId": "35e85aed-ff86-4c06-cb3f-3ffc045c412c"
      },
      "source": [
        "scores = []\n",
        "for tr_in, val_in in tqdm.tqdm(KFold().split(X, y)):\n",
        "    cat = CatBoostRegressor(n_estimators = 1000, verbose=0)\n",
        "    cat.fit(X.iloc[tr_in], y[tr_in])\n",
        "    scores.append(accuracy(y[val_in],cat.predict(X.iloc[val_in])))"
      ],
      "execution_count": null,
      "outputs": [
        {
          "output_type": "stream",
          "text": [
            "5it [00:17,  3.50s/it]\n"
          ],
          "name": "stderr"
        }
      ]
    },
    {
      "cell_type": "code",
      "metadata": {
        "trusted": true,
        "id": "94fpEHwGTTUn",
        "colab_type": "code",
        "colab": {
          "base_uri": "https://localhost:8080/",
          "height": 109
        },
        "outputId": "fdc574cc-f821-40ea-8915-a6528bb88d56"
      },
      "source": [
        "scores"
      ],
      "execution_count": null,
      "outputs": [
        {
          "output_type": "execute_result",
          "data": {
            "text/plain": [
              "[81.95252387473838,\n",
              " 82.02522250453244,\n",
              " 81.30114960035479,\n",
              " 81.77319159384338,\n",
              " 80.15184054858985]"
            ]
          },
          "metadata": {
            "tags": []
          },
          "execution_count": 24
        }
      ]
    },
    {
      "cell_type": "code",
      "metadata": {
        "trusted": true,
        "id": "TDabSI8ETTUx",
        "colab_type": "code",
        "colab": {
          "base_uri": "https://localhost:8080/",
          "height": 35
        },
        "outputId": "aba1b2fc-415b-495e-a665-4db8eeb1c61b"
      },
      "source": [
        "np.mean(scores)"
      ],
      "execution_count": null,
      "outputs": [
        {
          "output_type": "execute_result",
          "data": {
            "text/plain": [
              "81.44078562441176"
            ]
          },
          "metadata": {
            "tags": []
          },
          "execution_count": 25
        }
      ]
    },
    {
      "cell_type": "code",
      "metadata": {
        "trusted": true,
        "id": "_J2jQ7DhTTU7",
        "colab_type": "code",
        "colab": {}
      },
      "source": [
        "preds = cat.predict(test)\n",
        "ss = pd.DataFrame()\n",
        "ss['Employee_ID'] = test_eid\n",
        "ss['Attrition_rate'] = preds\n",
        "\n",
        "ss.to_csv(path+'submission.csv',index=False)"
      ],
      "execution_count": null,
      "outputs": []
    },
    {
      "cell_type": "code",
      "metadata": {
        "trusted": true,
        "id": "8NeUOgp3TTVC",
        "colab_type": "code",
        "colab": {
          "base_uri": "https://localhost:8080/",
          "height": 424
        },
        "outputId": "e4b96e4a-99aa-49bc-f0f8-923e49e06413"
      },
      "source": [
        "ss"
      ],
      "execution_count": null,
      "outputs": [
        {
          "output_type": "execute_result",
          "data": {
            "text/html": [
              "<div>\n",
              "<style scoped>\n",
              "    .dataframe tbody tr th:only-of-type {\n",
              "        vertical-align: middle;\n",
              "    }\n",
              "\n",
              "    .dataframe tbody tr th {\n",
              "        vertical-align: top;\n",
              "    }\n",
              "\n",
              "    .dataframe thead th {\n",
              "        text-align: right;\n",
              "    }\n",
              "</style>\n",
              "<table border=\"1\" class=\"dataframe\">\n",
              "  <thead>\n",
              "    <tr style=\"text-align: right;\">\n",
              "      <th></th>\n",
              "      <th>Employee_ID</th>\n",
              "      <th>Attrition_rate</th>\n",
              "    </tr>\n",
              "  </thead>\n",
              "  <tbody>\n",
              "    <tr>\n",
              "      <th>0</th>\n",
              "      <td>EID_22713</td>\n",
              "      <td>0.197700</td>\n",
              "    </tr>\n",
              "    <tr>\n",
              "      <th>1</th>\n",
              "      <td>EID_9658</td>\n",
              "      <td>0.223686</td>\n",
              "    </tr>\n",
              "    <tr>\n",
              "      <th>2</th>\n",
              "      <td>EID_22203</td>\n",
              "      <td>0.154272</td>\n",
              "    </tr>\n",
              "    <tr>\n",
              "      <th>3</th>\n",
              "      <td>EID_7652</td>\n",
              "      <td>0.156179</td>\n",
              "    </tr>\n",
              "    <tr>\n",
              "      <th>4</th>\n",
              "      <td>EID_6516</td>\n",
              "      <td>0.204124</td>\n",
              "    </tr>\n",
              "    <tr>\n",
              "      <th>...</th>\n",
              "      <td>...</td>\n",
              "      <td>...</td>\n",
              "    </tr>\n",
              "    <tr>\n",
              "      <th>2995</th>\n",
              "      <td>EID_22547</td>\n",
              "      <td>0.230193</td>\n",
              "    </tr>\n",
              "    <tr>\n",
              "      <th>2996</th>\n",
              "      <td>EID_10066</td>\n",
              "      <td>0.143588</td>\n",
              "    </tr>\n",
              "    <tr>\n",
              "      <th>2997</th>\n",
              "      <td>EID_7126</td>\n",
              "      <td>0.180795</td>\n",
              "    </tr>\n",
              "    <tr>\n",
              "      <th>2998</th>\n",
              "      <td>EID_4929</td>\n",
              "      <td>0.331349</td>\n",
              "    </tr>\n",
              "    <tr>\n",
              "      <th>2999</th>\n",
              "      <td>EID_24750</td>\n",
              "      <td>0.253460</td>\n",
              "    </tr>\n",
              "  </tbody>\n",
              "</table>\n",
              "<p>3000 rows × 2 columns</p>\n",
              "</div>"
            ],
            "text/plain": [
              "     Employee_ID  Attrition_rate\n",
              "0      EID_22713        0.197700\n",
              "1       EID_9658        0.223686\n",
              "2      EID_22203        0.154272\n",
              "3       EID_7652        0.156179\n",
              "4       EID_6516        0.204124\n",
              "...          ...             ...\n",
              "2995   EID_22547        0.230193\n",
              "2996   EID_10066        0.143588\n",
              "2997    EID_7126        0.180795\n",
              "2998    EID_4929        0.331349\n",
              "2999   EID_24750        0.253460\n",
              "\n",
              "[3000 rows x 2 columns]"
            ]
          },
          "metadata": {
            "tags": []
          },
          "execution_count": 27
        }
      ]
    },
    {
      "cell_type": "code",
      "metadata": {
        "trusted": true,
        "id": "ZtKJ0aFKTTVO",
        "colab_type": "code",
        "colab": {}
      },
      "source": [
        ""
      ],
      "execution_count": null,
      "outputs": []
    }
  ]
}